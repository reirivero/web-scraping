{
 "cells": [
  {
   "cell_type": "code",
   "execution_count": 1,
   "metadata": {},
   "outputs": [],
   "source": [
    "import requests\n",
    "from bs4 import BeautifulSoup\n",
    "import re\n",
    "\n",
    "from selenium import webdriver\n",
    "from selenium.webdriver.common.by import By\n",
    "from selenium.webdriver.chrome.service import Service\n",
    "from selenium.webdriver.chrome.options import Options\n",
    "from webdriver_manager.chrome import ChromeDriverManager\n",
    "import time\n",
    "import json"
   ]
  },
  {
   "cell_type": "code",
   "execution_count": 2,
   "metadata": {},
   "outputs": [
    {
     "data": {
      "text/plain": [
       "[<div class=\"old-prices hidden\"><span class=\"normal-price\">Oferta: $21.399</span><span class=\"old\">$21.399</span></div>,\n",
       " <div class=\"old-prices col-md-6 hidden\"><p class=\"normal-price\">Precio farmacia: $ 21.399<span class=\"old\">Antes: $ 21.399</span></p></div>]"
      ]
     },
     "execution_count": 2,
     "metadata": {},
     "output_type": "execute_result"
    }
   ],
   "source": [
    "url = \"https://salcobrand.cl/products/estradiol-0-1-topico-\" \\\n",
    "      \"semisolido-1429a6a8-f299-4655-837a-354fbfd3e7a7\" \\\n",
    "      \"?default_sku=3028594&gclid=CjwKCAjwkuqvBhAQEiwA65XxQM\" \\\n",
    "            \"58ubie6n4zWlcqMCtRT-IaGv2sqe1D1Rt3hPqTPlcfXX-puTg9-RoCV3IQAvD_BwE\"\n",
    "\n",
    "response = requests.get(url)\n",
    "soup = BeautifulSoup(response.content, 'html.parser')\n",
    "soup.find_all('div', class_=re.compile(r'old-price'))"
   ]
  },
  {
   "cell_type": "code",
   "execution_count": 13,
   "metadata": {},
   "outputs": [
    {
     "data": {
      "text/plain": [
       "[]"
      ]
     },
     "execution_count": 13,
     "metadata": {},
     "output_type": "execute_result"
    }
   ],
   "source": [
    "soup.find_all('span', class_=re.compile(r'no-decoration'))"
   ]
  },
  {
   "cell_type": "code",
   "execution_count": 3,
   "metadata": {},
   "outputs": [
    {
     "name": "stdout",
     "output_type": "stream",
     "text": [
      "{'3028594': {'normal': '$21.399', 'oferta': '$18.831', 'tarjeta': '$17.119', 'internet': None}}\n"
     ]
    }
   ],
   "source": [
    "# Obtener el contenido de la página\n",
    "response = requests.get(url)\n",
    "soup = BeautifulSoup(response.content, \"html.parser\")\n",
    "    \n",
    "# Encontrar el tag <script> que contiene los precios\n",
    "script_tag = soup.find(\"script\", string=lambda text: text and \"var prices\" in text)\n",
    "    \n",
    "# Extraer el contenido del tag <script>\n",
    "script_content = script_tag.string\n",
    "\n",
    "# Extraer el JSON de precios del contenido del script\n",
    "start = script_content.find(\"var prices = \") + len(\"var prices = \")\n",
    "end = script_content.find(\"};\", start) + 1\n",
    "prices_json = script_content[start:end]\n",
    "\n",
    "# Convertir el JSON a un diccionario de Python\n",
    "prices = json.loads(prices_json)\n",
    "\n",
    "# Imprimir los precios\n",
    "print(prices)"
   ]
  },
  {
   "cell_type": "code",
   "execution_count": null,
   "metadata": {},
   "outputs": [],
   "source": [
    "# Configurar Selenium con Chrome\n",
    "chrome_options = Options()\n",
    "chrome_options.binary_location = \"/usr/bin/google-chrome\"  # Ruta al binario de Google Chrome\n",
    "chrome_options.add_argument(\"--headless\")  # Ejecutar en modo headless\n",
    "service = Service('/usr/local/bin/chromedriver')  # Reemplaza con la ruta a tu chromedriver\n",
    "driver = webdriver.Chrome(service=service, options=chrome_options)\n",
    "\n",
    "# URL de la página web\n",
    "# url = \"https://salcobrand.cl/products/estradiol-0-1-topico-semisolido-1429a6a8-f299-4655-837a-354fbfd3e7a7?default_sku=3028594&gclid=CjwKCAjwkuqvBhAQEiwA65XxQM58ubie6n4zWlcqMCtRT-IaGv2sqe1D1Rt3hPqTPlcfXX-puTg9-RoCV3IQAvD_BwE\"\n",
    "driver.get(url)\n",
    "\n",
    "# Esperar a que la página cargue completamente\n",
    "time.sleep(5)\n",
    "\n",
    "# Obtener el contenido de la página\n",
    "page_content = driver.page_source\n",
    "soup = BeautifulSoup(page_content, \"html.parser\")\n",
    "\n",
    "# Encontrar los elementos de disponibilidad\n",
    "pickup_availability = soup.find(\"div\", class_=\"shipment-methods pickup\").find(\"div\", class_=\"desc\").text.strip()\n",
    "home_delivery_availability = soup.find(\"div\", class_=\"shipment-methods home_delivery\").find(\"div\", class_=\"desc\").text.strip()\n",
    "\n",
    "# Imprimir los valores de disponibilidad\n",
    "print(\"Retiro en tienda:\", pickup_availability)\n",
    "print(\"Despacho a domicilio:\", home_delivery_availability)\n",
    "\n",
    "# Cerrar el navegador\n",
    "driver.quit()"
   ]
  },
  {
   "cell_type": "code",
   "execution_count": 8,
   "metadata": {},
   "outputs": [
    {
     "data": {
      "text/plain": [
       "<div class=\"desc\"></div>"
      ]
     },
     "execution_count": 8,
     "metadata": {},
     "output_type": "execute_result"
    }
   ],
   "source": [
    "# Configurar Selenium con Chrome\n",
    "chrome_options = Options()\n",
    "chrome_options.binary_location = \"/usr/bin/google-chrome\"  # Ruta al binario de Google Chrome\n",
    "chrome_options.add_argument(\"--headless\")  # Ejecutar en modo headless\n",
    "service = Service('/usr/local/bin/chromedriver')  # Reemplaza con la ruta a tu chromedriver\n",
    "driver = webdriver.Chrome(service=service, options=chrome_options)\n",
    "\n",
    "# URL de la página web\n",
    "# url = \"https://salcobrand.cl/products/estradiol-0-1-topico-semisolido-1429a6a8-f299-4655-837a-354fbfd3e7a7?default_sku=3028594&gclid=CjwKCAjwkuqvBhAQEiwA65XxQM58ubie6n4zWlcqMCtRT-IaGv2sqe1D1Rt3hPqTPlcfXX-puTg9-RoCV3IQAvD_BwE\"\n",
    "driver.get(url)\n",
    "\n",
    "# Esperar a que la página cargue completamente\n",
    "time.sleep(5)\n",
    "\n",
    "# Obtener el contenido de la página\n",
    "page_content = driver.page_source\n",
    "soup = BeautifulSoup(page_content, \"html.parser\")\n",
    "\n",
    "# Encontrar los elementos de disponibilida\n",
    "soup.find(\"div\", class_=\"shipment-methods pickup\").find('div',class_='desc')"
   ]
  },
  {
   "cell_type": "code",
   "execution_count": null,
   "metadata": {},
   "outputs": [
    {
     "data": {
      "text/plain": [
       "[<div class=\"shipment-methods pickup\"><img alt=\"Preloader spinner blue\" class=\"pickup_delivery_spinner\" height=\"24\" src=\"https://static.salcobrandonline.cl/assets/preloader_spinner_blue-74e4afe3a8745c1465ca776e1006c2f81c6c964d269e46763da04dfb21684ea8.gif\" width=\"24\"/><div class=\"shipment-methods-title-desc\"><div class=\"title\">Retiro en tienda</div><div class=\"desc\"></div></div></div>,\n",
       " <div class=\"shipment-methods-title-desc\"><div class=\"title\">Retiro en tienda</div><div class=\"desc\"></div></div>,\n",
       " <div class=\"shipment-methods home_delivery mt-sm\"><img alt=\"Preloader spinner blue\" class=\"home_delivery_spinner\" height=\"24\" src=\"https://static.salcobrandonline.cl/assets/preloader_spinner_blue-74e4afe3a8745c1465ca776e1006c2f81c6c964d269e46763da04dfb21684ea8.gif\" width=\"24\"/><div class=\"shipment-methods-title-desc\"><div class=\"title\">Despacho a domicilio</div><div class=\"desc\"></div></div></div>,\n",
       " <div class=\"shipment-methods-title-desc\"><div class=\"title\">Despacho a domicilio</div><div class=\"desc\"></div></div>]"
      ]
     },
     "metadata": {},
     "output_type": "display_data"
    }
   ],
   "source": [
    "shipment_methods = soup.find_all('div',class_=re.compile(r'shipment-methods'))\n",
    "shipment_methods"
   ]
  }
 ],
 "metadata": {
  "kernelspec": {
   "display_name": "webenv",
   "language": "python",
   "name": "python3"
  },
  "language_info": {
   "codemirror_mode": {
    "name": "ipython",
    "version": 3
   },
   "file_extension": ".py",
   "mimetype": "text/x-python",
   "name": "python",
   "nbconvert_exporter": "python",
   "pygments_lexer": "ipython3",
   "version": "3.12.4"
  }
 },
 "nbformat": 4,
 "nbformat_minor": 2
}
